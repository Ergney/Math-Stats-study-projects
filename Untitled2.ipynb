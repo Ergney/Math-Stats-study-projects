{
 "cells": [
  {
   "cell_type": "markdown",
   "id": "075355d0",
   "metadata": {},
   "source": [
    "Задача 1\n",
    "\n",
    "Даны значения величины заработной платы заемщиков банка (salary) и значения их поведенческого кредитного скоринга (scoring):\n",
    "\n",
    "salary = [35, 45, 190, 200, 40, 70, 54, 150, 120, 110]\n",
    "scoring = [401, 574, 874, 919, 459, 739, 653, 902, 746, 832]\n",
    "Найдите ковариацию этих двух величин: сначала без использования специальных функций, а затем с помощью функции numpy.cov. Полученные значения должны быть равны.\n",
    "Найдите коэффициент корреляции Пирсона: с помощью ковариации и средних квадратических отклонений двух признаков, а затем с помощью специальных функций из библиотек numpy и pandas."
   ]
  },
  {
   "cell_type": "code",
   "execution_count": 50,
   "id": "715c045e",
   "metadata": {},
   "outputs": [],
   "source": [
    "import numpy as np\n",
    "import math\n",
    "import pandas as pd\n",
    "from scipy import stats"
   ]
  },
  {
   "cell_type": "code",
   "execution_count": 43,
   "id": "c0f18a78",
   "metadata": {},
   "outputs": [],
   "source": [
    "salary = [35, 45, 190, 200, 40, 70, 54, 150, 120, 110]\n",
    "scoring = [401, 574, 874, 919, 459, 739, 653, 902, 746, 832]"
   ]
  },
  {
   "cell_type": "code",
   "execution_count": 46,
   "id": "6fbe51da",
   "metadata": {},
   "outputs": [
    {
     "data": {
      "text/plain": [
       "0.8874900920739162"
      ]
     },
     "execution_count": 46,
     "metadata": {},
     "output_type": "execute_result"
    }
   ],
   "source": [
    "salary_mean = np.mean(salary)\n",
    "scoring_mean = np.mean(scoring)\n",
    "salary_std = math.sqrt(np.mean((salary - salary_mean)**2))\n",
    "scoring_std = math.sqrt(np.mean((scoring - scoring_mean)**2))\n",
    "\n",
    "\n",
    "cov = sum((salary - salary_mean) * (scoring - scoring_mean)) / (len(salary))\n",
    "\n",
    "cor = cov / (salary_std * scoring_std)\n",
    "\n",
    "\n",
    "cor"
   ]
  },
  {
   "cell_type": "code",
   "execution_count": 47,
   "id": "30dcaa63",
   "metadata": {},
   "outputs": [
    {
     "data": {
      "text/html": [
       "<div>\n",
       "<style scoped>\n",
       "    .dataframe tbody tr th:only-of-type {\n",
       "        vertical-align: middle;\n",
       "    }\n",
       "\n",
       "    .dataframe tbody tr th {\n",
       "        vertical-align: top;\n",
       "    }\n",
       "\n",
       "    .dataframe thead th {\n",
       "        text-align: right;\n",
       "    }\n",
       "</style>\n",
       "<table border=\"1\" class=\"dataframe\">\n",
       "  <thead>\n",
       "    <tr style=\"text-align: right;\">\n",
       "      <th></th>\n",
       "      <th>salary</th>\n",
       "      <th>scoring</th>\n",
       "    </tr>\n",
       "  </thead>\n",
       "  <tbody>\n",
       "    <tr>\n",
       "      <th>salary</th>\n",
       "      <td>1.00000</td>\n",
       "      <td>0.88749</td>\n",
       "    </tr>\n",
       "    <tr>\n",
       "      <th>scoring</th>\n",
       "      <td>0.88749</td>\n",
       "      <td>1.00000</td>\n",
       "    </tr>\n",
       "  </tbody>\n",
       "</table>\n",
       "</div>"
      ],
      "text/plain": [
       "          salary  scoring\n",
       "salary   1.00000  0.88749\n",
       "scoring  0.88749  1.00000"
      ]
     },
     "execution_count": 47,
     "metadata": {},
     "output_type": "execute_result"
    }
   ],
   "source": [
    "X = pd.DataFrame({\"salary\": salary, \"scoring\": scoring})\n",
    "X[[\"salary\", \"scoring\"]].corr()"
   ]
  },
  {
   "cell_type": "markdown",
   "id": "586d9703",
   "metadata": {},
   "source": [
    "Результат сходится. Коэффицент кореляции величин:  0.88749"
   ]
  },
  {
   "cell_type": "markdown",
   "id": "f4959610",
   "metadata": {},
   "source": [
    "Задача 2\n",
    "\n",
    "Измерены значения IQ выборки студентов, обучающихся в местных технических вузах:\n",
    "\n",
    "131, 125, 115, 122, 131, 115, 107, 99, 125, 111\n",
    "Известно, что в генеральной совокупности IQ распределен нормально. Найдите доверительный интервал для математического ожидания с надежностью 0.95."
   ]
  },
  {
   "cell_type": "code",
   "execution_count": 51,
   "id": "f185c175",
   "metadata": {},
   "outputs": [
    {
     "name": "stdout",
     "output_type": "stream",
     "text": [
      "Довертительный интвервал будет от 111.89926122656924 до 124.30073877343075\n"
     ]
    }
   ],
   "source": [
    "X = [131, 125, 115, 122, 131, 115, 107, 99, 125, 111]\n",
    "n = len(X)\n",
    "X_std = math.sqrt(np.mean((X - np.mean(X))**2))\n",
    "X_mean = np.mean(X)\n",
    "p = 0.95\n",
    "alpha = 1 - p\n",
    "\n",
    "t1 = stats.norm.ppf(alpha / 2)\n",
    "t2 = stats.norm.ppf(1 - alpha / 2)\n",
    "\n",
    "y = (X_mean + t1 * X_std / np.sqrt(n), X_mean + t2 * X_std / np.sqrt(n))\n",
    "print(f'Довертительный интвервал будет от {y[0]} до {y[1]}')"
   ]
  },
  {
   "cell_type": "markdown",
   "id": "0761b1ad",
   "metadata": {},
   "source": [
    "Задача 3\n",
    "\n",
    "Известно, что рост футболистов в сборной распределен нормально с известной дисперсией 25. На выборке объёма 27 выборочное среднее составило 174.2. Найдите доверительный интервал для математического ожидания с надежностью 0.95."
   ]
  },
  {
   "cell_type": "code",
   "execution_count": 53,
   "id": "fa6f2428",
   "metadata": {},
   "outputs": [
    {
     "name": "stdout",
     "output_type": "stream",
     "text": [
      "Довертительный интвервал будет от 172.3140237765397 до 176.08597622346028\n"
     ]
    }
   ],
   "source": [
    "std = math.sqrt(25)\n",
    "n = 27\n",
    "mean = 174.2\n",
    "p = 0.95\n",
    "alpha = 1 - p\n",
    "\n",
    "t1 = stats.norm.ppf(alpha / 2)\n",
    "t2 = stats.norm.ppf(1 - alpha / 2)\n",
    "\n",
    "y = (mean + t1 * std / np.sqrt(n), mean + t2 * std / np.sqrt(n))\n",
    "print(f'Довертительный интвервал будет от {y[0]} до {y[1]}')"
   ]
  },
  {
   "cell_type": "code",
   "execution_count": null,
   "id": "74149b7f",
   "metadata": {},
   "outputs": [],
   "source": []
  }
 ],
 "metadata": {
  "kernelspec": {
   "display_name": "Python 3",
   "language": "python",
   "name": "python3"
  },
  "language_info": {
   "codemirror_mode": {
    "name": "ipython",
    "version": 3
   },
   "file_extension": ".py",
   "mimetype": "text/x-python",
   "name": "python",
   "nbconvert_exporter": "python",
   "pygments_lexer": "ipython3",
   "version": "3.8.8"
  }
 },
 "nbformat": 4,
 "nbformat_minor": 5
}
