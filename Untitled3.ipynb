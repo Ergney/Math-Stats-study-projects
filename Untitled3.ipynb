{
 "cells": [
  {
   "cell_type": "markdown",
   "id": "82306afd",
   "metadata": {},
   "source": [
    "__Задача 1__\n",
    "\n",
    "Дана матрица объект-признак\n",
    "```\n",
    "X = [[ 1.22401313,  2.30868478,  3.03636353,  2.69287214],\n",
    "     [-0.18757272,  1.30337355,  5.12093014,  3.46363202],\n",
    "     [-0.81094525,  1.82463398,  5.79686488,  1.86159445],\n",
    "     [ 0.75129018,  2.67392052,  3.65529809,  1.66746094],\n",
    "     [ 0.00972362,  1.97367255,  2.50594319,  1.69755173],\n",
    "     [-0.62972637,  0.77750764,  2.84124027,  4.54410559],\n",
    "     [ 2.29536229,  1.81206697,  1.95026215,  1.51874636],\n",
    "     [ 0.0920418 ,  2.26971361,  7.47708735,  2.61081203],\n",
    "     [ 2.39252799,  3.17563985,  3.61420599,  5.10773362],\n",
    "     [ 0.54983815,  2.87988651,  1.65752765,  1.59635987]]\n",
    "```\n",
    "и значения целевой переменной\n",
    "```\n",
    "y = [ 9.26193358,  9.700363  ,  8.67214805,  8.74796974,  6.18689108,\n",
    "      7.53312713,  7.57643777, 12.44965478, 14.29010746,  6.68361218]\n",
    "```\n",
    "\n",
    "1. Подберите два признака (из четырёх) так, чтобы уровень линейной зависимости целевой переменной от значений этих признаков был максимальным. Другими словами, модель линейной регрессии на этих признаках должна давать наилучший результат.\n",
    "2. Является ли значимым получившееся уравнение регрессии?"
   ]
  },
  {
   "cell_type": "code",
   "execution_count": 2,
   "id": "4ab488c9",
   "metadata": {},
   "outputs": [],
   "source": [
    "import numpy as np\n",
    "import pandas as pd\n",
    "from matplotlib import pyplot as plt\n",
    "from sklearn.linear_model import LinearRegression\n",
    "from scipy import stats\n",
    "import statsmodels.api as sm"
   ]
  },
  {
   "cell_type": "code",
   "execution_count": 3,
   "id": "8d2137bf",
   "metadata": {},
   "outputs": [],
   "source": [
    "X = pd.DataFrame([[ 1.22401313,  2.30868478,  3.03636353,  2.69287214],\n",
    "     [-0.18757272,  1.30337355,  5.12093014,  3.46363202],\n",
    "     [-0.81094525,  1.82463398,  5.79686488,  1.86159445],\n",
    "     [ 0.75129018,  2.67392052,  3.65529809,  1.66746094],\n",
    "     [ 0.00972362,  1.97367255,  2.50594319,  1.69755173],\n",
    "     [-0.62972637,  0.77750764,  2.84124027,  4.54410559],\n",
    "     [ 2.29536229,  1.81206697,  1.95026215,  1.51874636],\n",
    "     [ 0.0920418 ,  2.26971361,  7.47708735,  2.61081203],\n",
    "     [ 2.39252799,  3.17563985,  3.61420599,  5.10773362],\n",
    "     [ 0.54983815,  2.87988651,  1.65752765,  1.59635987]])"
   ]
  },
  {
   "cell_type": "code",
   "execution_count": 4,
   "id": "11ddee5e",
   "metadata": {},
   "outputs": [],
   "source": [
    "X[\"y\"] = [ 9.26193358,  9.700363  ,  8.67214805,  8.74796974,  6.18689108,\n",
    "      7.53312713,  7.57643777, 12.44965478, 14.29010746,  6.68361218]"
   ]
  },
  {
   "cell_type": "markdown",
   "id": "c193873b",
   "metadata": {},
   "source": [
    "Проверим корреляцию целевой переменной с каждым из признаков."
   ]
  },
  {
   "cell_type": "code",
   "execution_count": 5,
   "id": "b1ac0bf7",
   "metadata": {},
   "outputs": [
    {
     "name": "stdout",
     "output_type": "stream",
     "text": [
      "первый признак:\n",
      "           0         y\n",
      "0  1.000000  0.351677\n",
      "y  0.351677  1.000000\n",
      "второй признак:\n",
      "           1         y\n",
      "1  1.000000  0.399858\n",
      "y  0.399858  1.000000\n",
      "третий признак:\n",
      "           2         y\n",
      "2  1.000000  0.582637\n",
      "y  0.582637  1.000000\n",
      "четвертый признак:\n",
      "           3         y\n",
      "3  1.000000  0.602917\n",
      "y  0.602917  1.000000\n"
     ]
    }
   ],
   "source": [
    "print(f'первый признак:\\n {X[[0,\"y\"]].corr()}')\n",
    "print(f'второй признак:\\n {X[[1,\"y\"]].corr()}')\n",
    "print(f'третий признак:\\n {X[[2,\"y\"]].corr()}')\n",
    "print(f'четвертый признак:\\n {X[[3,\"y\"]].corr()}')"
   ]
  },
  {
   "cell_type": "markdown",
   "id": "5830f6b6",
   "metadata": {},
   "source": [
    "Как мы видим наибольшая корреляция с 3 и 4 признаком, теперь проверим их корреляцию между собой"
   ]
  },
  {
   "cell_type": "code",
   "execution_count": 6,
   "id": "7fcfbb53",
   "metadata": {},
   "outputs": [
    {
     "data": {
      "text/html": [
       "<div>\n",
       "<style scoped>\n",
       "    .dataframe tbody tr th:only-of-type {\n",
       "        vertical-align: middle;\n",
       "    }\n",
       "\n",
       "    .dataframe tbody tr th {\n",
       "        vertical-align: top;\n",
       "    }\n",
       "\n",
       "    .dataframe thead th {\n",
       "        text-align: right;\n",
       "    }\n",
       "</style>\n",
       "<table border=\"1\" class=\"dataframe\">\n",
       "  <thead>\n",
       "    <tr style=\"text-align: right;\">\n",
       "      <th></th>\n",
       "      <th>2</th>\n",
       "      <th>3</th>\n",
       "    </tr>\n",
       "  </thead>\n",
       "  <tbody>\n",
       "    <tr>\n",
       "      <th>2</th>\n",
       "      <td>1.000000</td>\n",
       "      <td>0.129481</td>\n",
       "    </tr>\n",
       "    <tr>\n",
       "      <th>3</th>\n",
       "      <td>0.129481</td>\n",
       "      <td>1.000000</td>\n",
       "    </tr>\n",
       "  </tbody>\n",
       "</table>\n",
       "</div>"
      ],
      "text/plain": [
       "          2         3\n",
       "2  1.000000  0.129481\n",
       "3  0.129481  1.000000"
      ]
     },
     "execution_count": 6,
     "metadata": {},
     "output_type": "execute_result"
    }
   ],
   "source": [
    "X[[2,3]].corr()"
   ]
  },
  {
   "cell_type": "markdown",
   "id": "246807e7",
   "metadata": {},
   "source": [
    "Как мы видим, данные признаки не связаны с друг другом. Попробую использовать их для построения модели. "
   ]
  },
  {
   "cell_type": "code",
   "execution_count": 15,
   "id": "be51db11",
   "metadata": {},
   "outputs": [
    {
     "name": "stdout",
     "output_type": "stream",
     "text": [
      "                                 OLS Regression Results                                \n",
      "=======================================================================================\n",
      "Dep. Variable:                      y   R-squared (uncentered):                   0.959\n",
      "Model:                            OLS   Adj. R-squared (uncentered):              0.949\n",
      "Method:                 Least Squares   F-statistic:                              94.30\n",
      "Date:                Fri, 27 Aug 2021   Prob (F-statistic):                    2.74e-06\n",
      "Time:                        20:01:34   Log-Likelihood:                         -20.612\n",
      "No. Observations:                  10   AIC:                                      45.22\n",
      "Df Residuals:                       8   BIC:                                      45.83\n",
      "Df Model:                           2                                                  \n",
      "Covariance Type:            nonrobust                                                  \n",
      "==============================================================================\n",
      "                 coef    std err          t      P>|t|      [0.025      0.975]\n",
      "------------------------------------------------------------------------------\n",
      "2              1.1352      0.304      3.728      0.006       0.433       1.837\n",
      "3              1.6606      0.429      3.871      0.005       0.671       2.650\n",
      "==============================================================================\n",
      "Omnibus:                        1.065   Durbin-Watson:                   2.400\n",
      "Prob(Omnibus):                  0.587   Jarque-Bera (JB):                0.830\n",
      "Skew:                          -0.563   Prob(JB):                        0.660\n",
      "Kurtosis:                       2.149   Cond. No.                         3.72\n",
      "==============================================================================\n",
      "\n",
      "Notes:\n",
      "[1] R² is computed without centering (uncentered) since the model does not contain a constant.\n",
      "[2] Standard Errors assume that the covariance matrix of the errors is correctly specified.\n"
     ]
    },
    {
     "name": "stderr",
     "output_type": "stream",
     "text": [
      "C:\\Users\\iodaa\\anaconda3\\lib\\site-packages\\scipy\\stats\\stats.py:1603: UserWarning: kurtosistest only valid for n>=20 ... continuing anyway, n=10\n",
      "  warnings.warn(\"kurtosistest only valid for n>=20 ... continuing \"\n"
     ]
    }
   ],
   "source": [
    "model = sm.OLS(X[[\"y\"]], X[[2,3]])\n",
    "results = model.fit()\n",
    "print(results.summary())"
   ]
  },
  {
   "cell_type": "markdown",
   "id": "19607b9b",
   "metadata": {},
   "source": [
    "Как мы видим коэффициент детерминации равен 0.959, что является крайне высоким значением. Это значит что модель построенная по этим двум признакам очень хорошо описывает целевую переменную. F статистика на много больше P-value, это показывает нам, что полученное уравнение является значимым."
   ]
  },
  {
   "cell_type": "markdown",
   "id": "495b0307",
   "metadata": {},
   "source": [
    "__Задача 2__\n",
    "\n",
    "Даны значения величины заработной платы заемщиков банка (`salary`) и значения их поведенческого кредитного скоринга (`scoring`):\n",
    "```\n",
    "salary = [35, 45, 190, 200, 40, 70, 54, 150, 120, 110]\n",
    "scoring = [401, 574, 874, 919, 459, 739, 653, 902, 746, 832]\n",
    "```\n",
    "Возьмём в качестве признака значение `salary`, а в качестве целевой переменной - `scoring`.\n",
    "\n",
    "1. Найдите коэффициенты линейной регрессии с помощью формул для парной регрессии, а затем с помощью метода наименьших квадратов.\n",
    "2. Постройте `scatter plot` по данным и отметьте на нём прямую линейной регрессии, полученную в п. 1.\n",
    "3. Посчитайте коэффициент детерминации.\n",
    "4. Оцените построенное уравнение регрессии с помощью F-критерия Фишера.\n",
    "5. Оцените значимость получившихся параметров уравнения регрессии и постройте для них доверительные интервалы с помощью t-статистики Стьюдента.\n",
    "6. (доп) Посчитать среднюю ошибку аппроксимации"
   ]
  },
  {
   "cell_type": "code",
   "execution_count": 19,
   "id": "de7fed1a",
   "metadata": {},
   "outputs": [],
   "source": [
    "salary = np.array([35, 45, 190, 200, 40, 70, 54, 150, 120, 110])\n",
    "scoring = np.array([401, 574, 874, 919, 459, 739, 653, 902, 746, 832])"
   ]
  },
  {
   "cell_type": "code",
   "execution_count": 23,
   "id": "09e9f9dd",
   "metadata": {},
   "outputs": [
    {
     "name": "stdout",
     "output_type": "stream",
     "text": [
      "константа равна :444.1773573243596, коэффицент при x1 равен:2.620538882402765\n"
     ]
    }
   ],
   "source": [
    "one = (np.mean(salary * scoring) - np.mean(salary) * np.mean(scoring)) / (np.mean(salary ** 2) - np.mean(salary) ** 2)\n",
    "zero = np.mean(scoring) - one * np.mean(salary)\n",
    "\n",
    "print(f\"константа равна :{zero}, коэффицент при x1 равен:{one}\")"
   ]
  },
  {
   "cell_type": "code",
   "execution_count": 24,
   "id": "6491ad0f",
   "metadata": {},
   "outputs": [
    {
     "data": {
      "image/png": "[encoded data removed]",
      "text/plain": [
       "<Figure size 432x288 with 1 Axes>"
      ]
     },
     "metadata": {
      "needs_background": "light"
     },
     "output_type": "display_data"
    }
   ],
   "source": [
    "ox = salary\n",
    "oy = zero + one * ox\n",
    "\n",
    "plt.scatter(salary, scoring)\n",
    "plt.plot(ox, oy, color='red', alpha=0.5)\n",
    "\n",
    "plt.xlabel('salary')\n",
    "plt.ylabel('scoring');"
   ]
  },
  {
   "cell_type": "markdown",
   "id": "c11497aa",
   "metadata": {},
   "source": [
    "Судя по графику рассеивание относительно небольшое"
   ]
  },
  {
   "cell_type": "code",
   "execution_count": 31,
   "id": "e00afd01",
   "metadata": {},
   "outputs": [
    {
     "name": "stdout",
     "output_type": "stream",
     "text": [
      "коэффицент детерминации = 0.7876386635293686\n"
     ]
    }
   ],
   "source": [
    "q = zero + one * salary\n",
    "y = ((scoring - scoring.mean()) ** 2).sum()\n",
    "R = 1 - ((scoring - q)**2).sum() / y\n",
    "print(f\"коэффицент детерминации = {R}\")"
   ]
  },
  {
   "cell_type": "code",
   "execution_count": 38,
   "id": "079db8f3",
   "metadata": {},
   "outputs": [
    {
     "name": "stdout",
     "output_type": "stream",
     "text": [
      "F-критерий Фишера = 29.67164085966451\n"
     ]
    }
   ],
   "source": [
    "alpha = 0.05\n",
    "n = len(salary)\n",
    "m = 1\n",
    "\n",
    "k1 = m\n",
    "k2 = n - m - 1\n",
    "\n",
    "F = (R / k1) / ((1 - R) / k2)\n",
    "print(f'F-критерий Фишера = {F}')"
   ]
  },
  {
   "cell_type": "markdown",
   "id": "8cadb11d",
   "metadata": {},
   "source": [
    "Проверим расчеты"
   ]
  },
  {
   "cell_type": "code",
   "execution_count": 39,
   "id": "5973bb61",
   "metadata": {},
   "outputs": [
    {
     "name": "stdout",
     "output_type": "stream",
     "text": [
      "                                 OLS Regression Results                                \n",
      "=======================================================================================\n",
      "Dep. Variable:                      y   R-squared (uncentered):                   0.894\n",
      "Model:                            OLS   Adj. R-squared (uncentered):              0.882\n",
      "Method:                 Least Squares   F-statistic:                              76.10\n",
      "Date:                Fri, 27 Aug 2021   Prob (F-statistic):                    1.10e-05\n",
      "Time:                        20:32:42   Log-Likelihood:                         -68.901\n",
      "No. Observations:                  10   AIC:                                      139.8\n",
      "Df Residuals:                       9   BIC:                                      140.1\n",
      "Df Model:                           1                                                  \n",
      "Covariance Type:            nonrobust                                                  \n",
      "==============================================================================\n",
      "                 coef    std err          t      P>|t|      [0.025      0.975]\n",
      "------------------------------------------------------------------------------\n",
      "x1             5.8898      0.675      8.724      0.000       4.363       7.417\n",
      "==============================================================================\n",
      "Omnibus:                        1.727   Durbin-Watson:                   1.212\n",
      "Prob(Omnibus):                  0.422   Jarque-Bera (JB):                1.190\n",
      "Skew:                          -0.738   Prob(JB):                        0.551\n",
      "Kurtosis:                       2.177   Cond. No.                         1.00\n",
      "==============================================================================\n",
      "\n",
      "Notes:\n",
      "[1] R² is computed without centering (uncentered) since the model does not contain a constant.\n",
      "[2] Standard Errors assume that the covariance matrix of the errors is correctly specified.\n"
     ]
    },
    {
     "name": "stderr",
     "output_type": "stream",
     "text": [
      "C:\\Users\\iodaa\\anaconda3\\lib\\site-packages\\scipy\\stats\\stats.py:1603: UserWarning: kurtosistest only valid for n>=20 ... continuing anyway, n=10\n",
      "  warnings.warn(\"kurtosistest only valid for n>=20 ... continuing \"\n"
     ]
    }
   ],
   "source": [
    "model_1 = sm.OLS(scoring, salary)\n",
    "results = model_1.fit()\n",
    "print(results.summary())"
   ]
  },
  {
   "cell_type": "markdown",
   "id": "9a5296c0",
   "metadata": {},
   "source": [
    "Видимо что то я немного посчитал не так..."
   ]
  }
 ],
 "metadata": {
  "kernelspec": {
   "display_name": "Python 3",
   "language": "python",
   "name": "python3"
  },
  "language_info": {
   "codemirror_mode": {
    "name": "ipython",
    "version": 3
   },
   "file_extension": ".py",
   "mimetype": "text/x-python",
   "name": "python",
   "nbconvert_exporter": "python",
   "pygments_lexer": "ipython3",
   "version": "3.8.8"
  }
 },
 "nbformat": 4,
 "nbformat_minor": 5
}
