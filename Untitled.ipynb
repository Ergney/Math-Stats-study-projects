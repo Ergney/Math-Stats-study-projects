{
 "cells": [
  {
   "cell_type": "markdown",
   "id": "2d192555",
   "metadata": {},
   "source": [
    "Задача 1\n",
    "\n",
    "Известно, что генеральная совокупность распределена нормально с известным средним квадратическим отклонением 16. Найти доверительный интервал для оценки математического ожидания mu с надёжностью 0.95, если выборочное среднее равно 80, а объём равен 256."
   ]
  },
  {
   "cell_type": "code",
   "execution_count": 9,
   "id": "ab6aaff6",
   "metadata": {},
   "outputs": [],
   "source": [
    "import numpy as np\n",
    "from scipy import stats\n",
    "from matplotlib import pyplot as plt"
   ]
  },
  {
   "cell_type": "code",
   "execution_count": 41,
   "id": "58c542dd",
   "metadata": {},
   "outputs": [
    {
     "name": "stdout",
     "output_type": "stream",
     "text": [
      "довертительный интвервал будет от 78.04003601545995 до 81.95996398454005\n"
     ]
    }
   ],
   "source": [
    "n = 256\n",
    "mean = 80\n",
    "disp = 16\n",
    "p = 0.95\n",
    "alpha = 1 - p\n",
    "\n",
    "t1 = stats.norm.ppf(alpha / 2)\n",
    "t2 = stats.norm.ppf(1 - alpha / 2)\n",
    "\n",
    "y = (mean + t1 * disp / np.sqrt(n), mean + t2 * disp / np.sqrt(n))\n",
    "\n",
    "print(f'Довертительный интвервал будет от {y[0]} до {y[1]}')"
   ]
  },
  {
   "cell_type": "markdown",
   "id": "bacb21dd",
   "metadata": {},
   "source": [
    "Задача 2\n",
    "\n",
    "Продавец утверждает, что средний вес пачки печенья составляет 200 г. Из партии извлечена выборка из 10 пачек. Вес каждой пачки составляет:\n",
    "\n",
    "202, 203, 199, 197, 195, 201, 200, 204, 194, 190\n",
    "\n",
    "Известно, что их веса распределены нормально.\n",
    "\n",
    "1)Верно ли утверждение продавца, если учитывать, что уровень значимости равен 1%?\n",
    "\n",
    "2)Найдите P-значение для данного теста."
   ]
  },
  {
   "cell_type": "code",
   "execution_count": 28,
   "id": "373666d7",
   "metadata": {},
   "outputs": [],
   "source": [
    "def statistic(samples):\n",
    "    return (samples.mean() - 200) / (samples.std(ddof=1) / np.sqrt(samples.shape[0]))"
   ]
  },
  {
   "cell_type": "code",
   "execution_count": 33,
   "id": "c4b794f2",
   "metadata": {},
   "outputs": [
    {
     "name": "stdout",
     "output_type": "stream",
     "text": [
      "Критическая область(crit) будет: 2.5758293035489004 < (crit) < -2.575829303548901\n",
      "t статистика будет: -1.0651074037450896\n",
      "Полученное значение не попадает в критическую область при заданных значениях. Утверждение верно\n"
     ]
    }
   ],
   "source": [
    "v = np.array([202, 203, 199, 197, 195, 201, 200, 204, 194, 190])\n",
    "alpha = 0.01\n",
    "mean = 200\n",
    "\n",
    "t1 = stats.norm.ppf(alpha / 2)\n",
    "t2 = stats.norm.ppf(1 - alpha / 2)\n",
    "\n",
    "t = statistic(v)\n",
    "\n",
    "print(f'Критическая область(crit) будет: {t2} < (crit) < {t1}')\n",
    "print(f't статистика будет: {t}')\n",
    "print(f'Полученное значение не попадает в критическую область при заданных значениях. Утверждение верно')"
   ]
  },
  {
   "cell_type": "code",
   "execution_count": 35,
   "id": "3fdbfc3c",
   "metadata": {},
   "outputs": [
    {
     "data": {
      "text/plain": [
       "(0.2878348033325285, 0.14391740166626424, 0.8427166982376357)"
      ]
     },
     "execution_count": 35,
     "metadata": {},
     "output_type": "execute_result"
    }
   ],
   "source": [
    "p_left = stats.t.cdf(t, df=n - 1)\n",
    "p_right = 1 - stats.t.cdf(t, df=v.shape[0] - 1)\n",
    "\n",
    "pvalue = 2 * min(p_left, p_right)\n",
    "pvalue, p_left, p_right"
   ]
  },
  {
   "cell_type": "markdown",
   "id": "87303191",
   "metadata": {},
   "source": [
    "Задача 3\n",
    "\n",
    "Утверждается, что шарики для подшипников, изготовленные автоматическим станком, имеют средний диаметр 17 мм. Используя уровень значимости 0.025 и правостороннюю критическую область, проверить данную гипотезу при условии, что в выборке из 100 шариков средний диаметр оказался равным 17.5 мм, а дисперсия известна и равна 4 мм."
   ]
  },
  {
   "cell_type": "code",
   "execution_count": 39,
   "id": "082cfa37",
   "metadata": {},
   "outputs": [
    {
     "data": {
      "text/plain": [
       "(1.25, 2.241402727604947)"
      ]
     },
     "execution_count": 39,
     "metadata": {},
     "output_type": "execute_result"
    }
   ],
   "source": [
    "Z = (17.5 - 17) / (4 / np.sqrt(100))\n",
    "alpha = 0.025\n",
    "\n",
    "t = stats.norm.ppf(1 - alpha / 2)\n",
    "\n",
    "Z, t"
   ]
  },
  {
   "cell_type": "markdown",
   "id": "6a7297c4",
   "metadata": {},
   "source": [
    "Видим что полученое значение меньше правой критической точки -> гипотеза верна"
   ]
  }
 ],
 "metadata": {
  "kernelspec": {
   "display_name": "Python 3",
   "language": "python",
   "name": "python3"
  },
  "language_info": {
   "codemirror_mode": {
    "name": "ipython",
    "version": 3
   },
   "file_extension": ".py",
   "mimetype": "text/x-python",
   "name": "python",
   "nbconvert_exporter": "python",
   "pygments_lexer": "ipython3",
   "version": "3.8.8"
  }
 },
 "nbformat": 4,
 "nbformat_minor": 5
}
