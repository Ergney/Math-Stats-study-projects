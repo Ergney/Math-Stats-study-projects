{
 "cells": [
  {
   "cell_type": "code",
   "execution_count": 59,
   "id": "5dca6a25",
   "metadata": {},
   "outputs": [],
   "source": [
    "import pandas as pd\n",
    "import numpy as np\n",
    "from matplotlib import pyplot as plt\n",
    "from scipy import stats"
   ]
  },
  {
   "cell_type": "code",
   "execution_count": 51,
   "id": "04397c2e",
   "metadata": {},
   "outputs": [],
   "source": [
    "path = 'C:\\\\Users\\\\iodaa\\\\Documents\\\\one\\\\Data\\\\'\n",
    "\n",
    "df = pd.read_csv(path+\"heart.csv\", encoding='cp1251')"
   ]
  },
  {
   "cell_type": "markdown",
   "id": "af08b262",
   "metadata": {},
   "source": [
    "На сайте писало что в таблице больше записей, но я уже начал с ними работать, так тчо сдаю чт вышло.\n",
    "\n",
    "Описание переводил гуглтранслейтом, скорее всего криво."
   ]
  },
  {
   "cell_type": "markdown",
   "id": "3b811241",
   "metadata": {},
   "source": [
    "Эта база данных содержит 76 атрибутов, но все опубликованные эксперименты относятся к подмножеству из 14 из них.\n",
    "\n",
    "Содержание\n",
    "\n",
    "Информация об атрибутах:\n",
    "\n",
    "1.age - возраст\n",
    "\n",
    "2.sex - пол\n",
    "\n",
    "3.cp - тип боли в груди (4 значения)\n",
    "\n",
    "4.trestbps - артериальное давление в покое\n",
    "\n",
    "5.chol - холесторал сыворотки в мг / дл\n",
    "\n",
    "6.fbs - уровень сахара в крови натощак> 120 мг / дл\n",
    "\n",
    "7.restecg - результаты электрокардиографии в покое (значения 0,1,2)\n",
    "\n",
    "8.thalach - достигнутая максимальная частота сердечных сокращений\n",
    "\n",
    "9.exang - стенокардия, вызванная физической нагрузкой\n",
    "\n",
    "10.oldpeak - депрессия ST, вызванная упражнениями по сравнению с отдыхом\n",
    "\n",
    "11.slope - наклон сегмента ST при пиковой нагрузке\n",
    "\n",
    "12.ca - количество крупных сосудов (0-3), окрашенных флурозопией\n",
    "\n",
    "13.thal - 3 = нормальный; 6 = исправленный дефект; 7 = обратимый дефект\n",
    "\n",
    "14.target - наличие у пациента сердечного заболевания 0 или 1"
   ]
  },
  {
   "cell_type": "code",
   "execution_count": 52,
   "id": "fc07ce67",
   "metadata": {},
   "outputs": [
    {
     "data": {
      "text/html": [
       "<div>\n",
       "<style scoped>\n",
       "    .dataframe tbody tr th:only-of-type {\n",
       "        vertical-align: middle;\n",
       "    }\n",
       "\n",
       "    .dataframe tbody tr th {\n",
       "        vertical-align: top;\n",
       "    }\n",
       "\n",
       "    .dataframe thead th {\n",
       "        text-align: right;\n",
       "    }\n",
       "</style>\n",
       "<table border=\"1\" class=\"dataframe\">\n",
       "  <thead>\n",
       "    <tr style=\"text-align: right;\">\n",
       "      <th></th>\n",
       "      <th>п»їage</th>\n",
       "      <th>sex</th>\n",
       "      <th>cp</th>\n",
       "      <th>trestbps</th>\n",
       "      <th>chol</th>\n",
       "      <th>fbs</th>\n",
       "      <th>restecg</th>\n",
       "      <th>thalach</th>\n",
       "      <th>exang</th>\n",
       "      <th>oldpeak</th>\n",
       "      <th>slope</th>\n",
       "      <th>ca</th>\n",
       "      <th>thal</th>\n",
       "      <th>target</th>\n",
       "    </tr>\n",
       "  </thead>\n",
       "  <tbody>\n",
       "    <tr>\n",
       "      <th>count</th>\n",
       "      <td>303.000000</td>\n",
       "      <td>303.000000</td>\n",
       "      <td>303.000000</td>\n",
       "      <td>303.000000</td>\n",
       "      <td>303.000000</td>\n",
       "      <td>303.000000</td>\n",
       "      <td>303.000000</td>\n",
       "      <td>303.000000</td>\n",
       "      <td>303.000000</td>\n",
       "      <td>303.000000</td>\n",
       "      <td>303.000000</td>\n",
       "      <td>303.000000</td>\n",
       "      <td>303.000000</td>\n",
       "      <td>303.000000</td>\n",
       "    </tr>\n",
       "    <tr>\n",
       "      <th>mean</th>\n",
       "      <td>54.366337</td>\n",
       "      <td>0.683168</td>\n",
       "      <td>0.966997</td>\n",
       "      <td>131.623762</td>\n",
       "      <td>246.264026</td>\n",
       "      <td>0.148515</td>\n",
       "      <td>0.528053</td>\n",
       "      <td>149.646865</td>\n",
       "      <td>0.326733</td>\n",
       "      <td>1.039604</td>\n",
       "      <td>1.399340</td>\n",
       "      <td>0.729373</td>\n",
       "      <td>2.313531</td>\n",
       "      <td>0.544554</td>\n",
       "    </tr>\n",
       "    <tr>\n",
       "      <th>std</th>\n",
       "      <td>9.082101</td>\n",
       "      <td>0.466011</td>\n",
       "      <td>1.032052</td>\n",
       "      <td>17.538143</td>\n",
       "      <td>51.830751</td>\n",
       "      <td>0.356198</td>\n",
       "      <td>0.525860</td>\n",
       "      <td>22.905161</td>\n",
       "      <td>0.469794</td>\n",
       "      <td>1.161075</td>\n",
       "      <td>0.616226</td>\n",
       "      <td>1.022606</td>\n",
       "      <td>0.612277</td>\n",
       "      <td>0.498835</td>\n",
       "    </tr>\n",
       "    <tr>\n",
       "      <th>min</th>\n",
       "      <td>29.000000</td>\n",
       "      <td>0.000000</td>\n",
       "      <td>0.000000</td>\n",
       "      <td>94.000000</td>\n",
       "      <td>126.000000</td>\n",
       "      <td>0.000000</td>\n",
       "      <td>0.000000</td>\n",
       "      <td>71.000000</td>\n",
       "      <td>0.000000</td>\n",
       "      <td>0.000000</td>\n",
       "      <td>0.000000</td>\n",
       "      <td>0.000000</td>\n",
       "      <td>0.000000</td>\n",
       "      <td>0.000000</td>\n",
       "    </tr>\n",
       "    <tr>\n",
       "      <th>25%</th>\n",
       "      <td>47.500000</td>\n",
       "      <td>0.000000</td>\n",
       "      <td>0.000000</td>\n",
       "      <td>120.000000</td>\n",
       "      <td>211.000000</td>\n",
       "      <td>0.000000</td>\n",
       "      <td>0.000000</td>\n",
       "      <td>133.500000</td>\n",
       "      <td>0.000000</td>\n",
       "      <td>0.000000</td>\n",
       "      <td>1.000000</td>\n",
       "      <td>0.000000</td>\n",
       "      <td>2.000000</td>\n",
       "      <td>0.000000</td>\n",
       "    </tr>\n",
       "    <tr>\n",
       "      <th>50%</th>\n",
       "      <td>55.000000</td>\n",
       "      <td>1.000000</td>\n",
       "      <td>1.000000</td>\n",
       "      <td>130.000000</td>\n",
       "      <td>240.000000</td>\n",
       "      <td>0.000000</td>\n",
       "      <td>1.000000</td>\n",
       "      <td>153.000000</td>\n",
       "      <td>0.000000</td>\n",
       "      <td>0.800000</td>\n",
       "      <td>1.000000</td>\n",
       "      <td>0.000000</td>\n",
       "      <td>2.000000</td>\n",
       "      <td>1.000000</td>\n",
       "    </tr>\n",
       "    <tr>\n",
       "      <th>75%</th>\n",
       "      <td>61.000000</td>\n",
       "      <td>1.000000</td>\n",
       "      <td>2.000000</td>\n",
       "      <td>140.000000</td>\n",
       "      <td>274.500000</td>\n",
       "      <td>0.000000</td>\n",
       "      <td>1.000000</td>\n",
       "      <td>166.000000</td>\n",
       "      <td>1.000000</td>\n",
       "      <td>1.600000</td>\n",
       "      <td>2.000000</td>\n",
       "      <td>1.000000</td>\n",
       "      <td>3.000000</td>\n",
       "      <td>1.000000</td>\n",
       "    </tr>\n",
       "    <tr>\n",
       "      <th>max</th>\n",
       "      <td>77.000000</td>\n",
       "      <td>1.000000</td>\n",
       "      <td>3.000000</td>\n",
       "      <td>200.000000</td>\n",
       "      <td>564.000000</td>\n",
       "      <td>1.000000</td>\n",
       "      <td>2.000000</td>\n",
       "      <td>202.000000</td>\n",
       "      <td>1.000000</td>\n",
       "      <td>6.200000</td>\n",
       "      <td>2.000000</td>\n",
       "      <td>4.000000</td>\n",
       "      <td>3.000000</td>\n",
       "      <td>1.000000</td>\n",
       "    </tr>\n",
       "  </tbody>\n",
       "</table>\n",
       "</div>"
      ],
      "text/plain": [
       "           п»їage         sex          cp    trestbps        chol         fbs  \\\n",
       "count  303.000000  303.000000  303.000000  303.000000  303.000000  303.000000   \n",
       "mean    54.366337    0.683168    0.966997  131.623762  246.264026    0.148515   \n",
       "std      9.082101    0.466011    1.032052   17.538143   51.830751    0.356198   \n",
       "min     29.000000    0.000000    0.000000   94.000000  126.000000    0.000000   \n",
       "25%     47.500000    0.000000    0.000000  120.000000  211.000000    0.000000   \n",
       "50%     55.000000    1.000000    1.000000  130.000000  240.000000    0.000000   \n",
       "75%     61.000000    1.000000    2.000000  140.000000  274.500000    0.000000   \n",
       "max     77.000000    1.000000    3.000000  200.000000  564.000000    1.000000   \n",
       "\n",
       "          restecg     thalach       exang     oldpeak       slope          ca  \\\n",
       "count  303.000000  303.000000  303.000000  303.000000  303.000000  303.000000   \n",
       "mean     0.528053  149.646865    0.326733    1.039604    1.399340    0.729373   \n",
       "std      0.525860   22.905161    0.469794    1.161075    0.616226    1.022606   \n",
       "min      0.000000   71.000000    0.000000    0.000000    0.000000    0.000000   \n",
       "25%      0.000000  133.500000    0.000000    0.000000    1.000000    0.000000   \n",
       "50%      1.000000  153.000000    0.000000    0.800000    1.000000    0.000000   \n",
       "75%      1.000000  166.000000    1.000000    1.600000    2.000000    1.000000   \n",
       "max      2.000000  202.000000    1.000000    6.200000    2.000000    4.000000   \n",
       "\n",
       "             thal      target  \n",
       "count  303.000000  303.000000  \n",
       "mean     2.313531    0.544554  \n",
       "std      0.612277    0.498835  \n",
       "min      0.000000    0.000000  \n",
       "25%      2.000000    0.000000  \n",
       "50%      2.000000    1.000000  \n",
       "75%      3.000000    1.000000  \n",
       "max      3.000000    1.000000  "
      ]
     },
     "execution_count": 52,
     "metadata": {},
     "output_type": "execute_result"
    }
   ],
   "source": [
    "df.describe()"
   ]
  },
  {
   "cell_type": "code",
   "execution_count": 53,
   "id": "d0a19d32",
   "metadata": {},
   "outputs": [
    {
     "name": "stdout",
     "output_type": "stream",
     "text": [
      "<class 'pandas.core.frame.DataFrame'>\n",
      "RangeIndex: 303 entries, 0 to 302\n",
      "Data columns (total 14 columns):\n",
      " #   Column    Non-Null Count  Dtype  \n",
      "---  ------    --------------  -----  \n",
      " 0   п»їage    303 non-null    int64  \n",
      " 1   sex       303 non-null    int64  \n",
      " 2   cp        303 non-null    int64  \n",
      " 3   trestbps  303 non-null    int64  \n",
      " 4   chol      303 non-null    int64  \n",
      " 5   fbs       303 non-null    int64  \n",
      " 6   restecg   303 non-null    int64  \n",
      " 7   thalach   303 non-null    int64  \n",
      " 8   exang     303 non-null    int64  \n",
      " 9   oldpeak   303 non-null    float64\n",
      " 10  slope     303 non-null    int64  \n",
      " 11  ca        303 non-null    int64  \n",
      " 12  thal      303 non-null    int64  \n",
      " 13  target    303 non-null    int64  \n",
      "dtypes: float64(1), int64(13)\n",
      "memory usage: 33.3 KB\n"
     ]
    }
   ],
   "source": [
    "df.info()"
   ]
  },
  {
   "cell_type": "markdown",
   "id": "3b6c7f56",
   "metadata": {},
   "source": [
    "Проверим несколько гепотез.\n",
    "\n",
    "1)Среднее артеральное давление людей составляет 125\n",
    "\n",
    "2)Старые люди более подвержены сердечные заболеваниям и стенокардии.\n",
    "\n",
    "3)артериальное давление влияет на сердечные заболевания."
   ]
  },
  {
   "cell_type": "code",
   "execution_count": 55,
   "id": "7ec10086",
   "metadata": {},
   "outputs": [],
   "source": [
    "x = df[\"trestbps\"]"
   ]
  },
  {
   "cell_type": "code",
   "execution_count": 58,
   "id": "53ceed5a",
   "metadata": {},
   "outputs": [
    {
     "data": {
      "text/plain": [
       "(array([10., 42., 67., 74., 57., 27., 13.,  8.,  3.,  2.]),\n",
       " array([ 94. , 104.6, 115.2, 125.8, 136.4, 147. , 157.6, 168.2, 178.8,\n",
       "        189.4, 200. ]),\n",
       " <BarContainer object of 10 artists>)"
      ]
     },
     "execution_count": 58,
     "metadata": {},
     "output_type": "execute_result"
    },
    {
     "data": {
      "image/png": "[encoded data removed]",
      "text/plain": [
       "<Figure size 432x288 with 1 Axes>"
      ]
     },
     "metadata": {
      "needs_background": "light"
     },
     "output_type": "display_data"
    }
   ],
   "source": [
    "plt.hist(x, bins=10)"
   ]
  },
  {
   "cell_type": "markdown",
   "id": "483bb0ab",
   "metadata": {},
   "source": [
    "Видим что распределение артериального давления близко к нормальному. Перепроверим при помощи Q-Q кривой."
   ]
  },
  {
   "cell_type": "code",
   "execution_count": 62,
   "id": "22ad37a5",
   "metadata": {},
   "outputs": [
    {
     "data": {
      "text/plain": [
       "[<matplotlib.lines.Line2D at 0x2290458c460>]"
      ]
     },
     "execution_count": 62,
     "metadata": {},
     "output_type": "execute_result"
    },
    {
     "data": {
      "image/png": "[encoded data removed]",
      "text/plain": [
       "<Figure size 432x288 with 1 Axes>"
      ]
     },
     "metadata": {
      "needs_background": "light"
     },
     "output_type": "display_data"
    }
   ],
   "source": [
    "loc = x.mean()\n",
    "scale = x.std()\n",
    "\n",
    "interval = np.linspace(0, 1, len(x))[1:-1]\n",
    "x = stats.norm.ppf(interval, loc=loc, scale=scale)\n",
    "y = np.quantile(x, interval)\n",
    "\n",
    "plt.scatter(x, y, s=5)\n",
    "plt.plot(x, x, color='C1', linestyle='dashed')"
   ]
  },
  {
   "cell_type": "markdown",
   "id": "0b019754",
   "metadata": {},
   "source": [
    "Убеждаемся в номральности распределения. Значения почти идеально ложаться на прямую.\n",
    "\n",
    "Теперь проверим гепотезу о том что среднее артериальное давление в людей 125. Диспрсию этого параметра для всех людей на свете мы не знаем, по этому используем т-статистику."
   ]
  },
  {
   "cell_type": "code",
   "execution_count": 75,
   "id": "4ab5d2b3",
   "metadata": {},
   "outputs": [
    {
     "data": {
      "text/plain": [
       "8.601785950190788e-12"
      ]
     },
     "execution_count": 75,
     "metadata": {},
     "output_type": "execute_result"
    }
   ],
   "source": [
    "alpha = 0.05\n",
    "def statistic(samples):\n",
    "    return (samples.mean() - 125) / (samples.std(ddof=1) / np.sqrt(samples.shape[0]))\n",
    "\n",
    "n = len(x)\n",
    "\n",
    "S = statistic(x)\n",
    "\n",
    "p_left = stats.norm.cdf(S)\n",
    "p_right = 1 - stats.norm.cdf(S)\n",
    "pvalue = 2 * min(p_left, p_right)\n",
    "\n",
    "pvalue"
   ]
  },
  {
   "cell_type": "markdown",
   "id": "9023a7e4",
   "metadata": {},
   "source": [
    "Как мы видим P-value очень маленькое значение, значит для почти любой альфа нулевая гипотеза поттверждается. Среднее артеральное давление людей составляет 125"
   ]
  },
  {
   "cell_type": "markdown",
   "id": "691bb095",
   "metadata": {},
   "source": [
    "Проверяем вторую гипотезу. Старые люди более подвержены сердечные заболеваниям и стенокардии.\n",
    "В начале попробую сравнить интересующие нас параметры в двух выборках для людей меньше медианного возраста и больше."
   ]
  },
  {
   "cell_type": "code",
   "execution_count": 79,
   "id": "60b2a0d5",
   "metadata": {},
   "outputs": [
    {
     "data": {
      "text/plain": [
       "55.0"
      ]
     },
     "execution_count": 79,
     "metadata": {},
     "output_type": "execute_result"
    }
   ],
   "source": [
    "df[\"п»їage\"].median()"
   ]
  },
  {
   "cell_type": "markdown",
   "id": "b6880ac6",
   "metadata": {},
   "source": [
    "Меданный возраст для нашей выборки составляет 55 лет. Это довольно высокий показатель, возможно данные будут искажены. Разделим выборку на две, тех кто старше 55 и тех кто моложе"
   ]
  },
  {
   "cell_type": "code",
   "execution_count": 84,
   "id": "5151b950",
   "metadata": {},
   "outputs": [],
   "source": [
    "x1 = df.loc[df[\"п»їage\"] <= 55]\n",
    "x2 = df.loc[df[\"п»їage\"] > 55]"
   ]
  },
  {
   "cell_type": "code",
   "execution_count": 89,
   "id": "949a12d2",
   "metadata": {},
   "outputs": [
    {
     "name": "stdout",
     "output_type": "stream",
     "text": [
      "younger people: exang     0.282895\n",
      "target    0.677632\n",
      "dtype: float64\n",
      "old peopleexang     0.370861\n",
      "target    0.410596\n",
      "dtype: float64\n"
     ]
    }
   ],
   "source": [
    "print(f'younger people: {x1[[\"exang\",\"target\"]].mean()}')\n",
    "print(f'old people{x2[[\"exang\",\"target\"]].mean()}')"
   ]
  },
  {
   "cell_type": "markdown",
   "id": "64e3bb90",
   "metadata": {},
   "source": [
    "Данное исследование нам показывает что для нашей выборки сердце более молодых людей лучше справляется с физическими нагрузками, но в целом имеет больше вероятность сердечных заболеваний. Проверим это метематичкески."
   ]
  },
  {
   "cell_type": "markdown",
   "id": "4c2943c1",
   "metadata": {},
   "source": [
    "Для этого снова поделим нашу выборку на две части. Теперь по категории есть или нет сердечные заболвания и есть или нет стенокардия при физической нагрузке."
   ]
  },
  {
   "cell_type": "code",
   "execution_count": 104,
   "id": "d2b60d59",
   "metadata": {},
   "outputs": [
    {
     "data": {
      "text/plain": [
       "(56.60144927536232,\n",
       " 52.4969696969697,\n",
       " 53.754901960784316,\n",
       " 55.62626262626262,\n",
       " 54.366336633663366)"
      ]
     },
     "execution_count": 104,
     "metadata": {},
     "output_type": "execute_result"
    }
   ],
   "source": [
    "y1 = df.loc[df[\"target\"] == 0]\n",
    "n1 = len(y1)\n",
    "y1_mean = y1[\"п»їage\"].mean()\n",
    "\n",
    "y2 = df.loc[df[\"target\"] == 1]\n",
    "n2 = len(y2)\n",
    "y2_mean = y2[\"п»їage\"].mean()\n",
    "\n",
    "y3 = df.loc[df[\"exang\"] == 0]\n",
    "n3 = len(y3)\n",
    "y3_mean = y3[\"п»їage\"].mean()\n",
    "\n",
    "y4 = df.loc[df[\"exang\"] == 1]\n",
    "n4 = len(y4)\n",
    "y4_mean = y4[\"п»їage\"].mean()\n",
    "\n",
    "mean = df[\"п»їage\"].mean()\n",
    "\n",
    "y1_mean, y2_mean, y3_mean, y4_mean, mean"
   ]
  },
  {
   "cell_type": "code",
   "execution_count": 111,
   "id": "6a4ecf0e",
   "metadata": {},
   "outputs": [
    {
     "data": {
      "text/plain": [
       "(1266.0084386699532, 23644.32819499341, 233.41981845243197, 24676.916815210934)"
      ]
     },
     "execution_count": 111,
     "metadata": {},
     "output_type": "execute_result"
    }
   ],
   "source": [
    "S2_b_1 = n1 * (y1_mean - mean) ** 2 + n2 * (y2_mean - mean) ** 2\n",
    "S2_w_1 = ((y1[\"п»їage\"] - y1_mean) ** 2).sum() + ((y2[\"п»їage\"] - y2_mean) ** 2).sum()\n",
    "\n",
    "S2_b_2 = n3 * (y3_mean - mean) ** 2 + n4 * (y4_mean - mean) ** 2\n",
    "S2_w_2 = ((y3[\"п»їage\"] - y3_mean) ** 2).sum() + ((y4[\"п»їage\"] - y4_mean) ** 2).sum()\n",
    "\n",
    "S2_b_1, S2_w_1, S2_b_2, S2_w_2"
   ]
  },
  {
   "cell_type": "code",
   "execution_count": 115,
   "id": "1f9844af",
   "metadata": {},
   "outputs": [
    {
     "data": {
      "text/plain": [
       "(1266.0084386699532, 78.55258536542661, 233.41981845243197, 81.98311234289346)"
      ]
     },
     "execution_count": 115,
     "metadata": {},
     "output_type": "execute_result"
    }
   ],
   "source": [
    "k = 2\n",
    "n_1 = n1 + n2\n",
    "n_2 = n3 + n4\n",
    "\n",
    "k1 = k - 1\n",
    "k2_1 = n_1 - k\n",
    "k2_2 = n_2 - k\n",
    "\n",
    "sigma2_b_1 = S2_b_1 / k1\n",
    "sigma2_w_1 = S2_w_1 / k2_1\n",
    "\n",
    "sigma2_b_2 = S2_b_2 / k1\n",
    "sigma2_w_2 = S2_w_2 / k2_2\n",
    "\n",
    "sigma2_b_1, sigma2_w_1, sigma2_b_2, sigma2_w_2"
   ]
  },
  {
   "cell_type": "code",
   "execution_count": 118,
   "id": "05d84986",
   "metadata": {},
   "outputs": [
    {
     "data": {
      "text/plain": [
       "(16.116699823188277, 2.847169517987511)"
      ]
     },
     "execution_count": 118,
     "metadata": {},
     "output_type": "execute_result"
    }
   ],
   "source": [
    "T_1 = sigma2_b_1 / sigma2_w_1\n",
    "T_2 = sigma2_b_2 / sigma2_w_2\n",
    "\n",
    "T_1, T_2"
   ]
  },
  {
   "cell_type": "code",
   "execution_count": 119,
   "id": "8f7e5c5f",
   "metadata": {},
   "outputs": [
    {
     "data": {
      "text/plain": [
       "(3.8725380423850146, 3.8725380423850146)"
      ]
     },
     "execution_count": 119,
     "metadata": {},
     "output_type": "execute_result"
    }
   ],
   "source": [
    "alpha = 0.05\n",
    "\n",
    "F_crit_1 = stats.f.ppf(1 - alpha, k1, k2_1)\n",
    "F_crit_2 = stats.f.ppf(1 - alpha, k1, k2_2)\n",
    "\n",
    "F_crit_1, F_crit_2"
   ]
  },
  {
   "cell_type": "markdown",
   "id": "162ca576",
   "metadata": {},
   "source": [
    "На основе нашей выборки мы доказали что возраст влияет на наличие сердечных заболеваний, но не влияет на стенокардии при физической нагрузке (при уровне значимости 0.05)"
   ]
  },
  {
   "cell_type": "markdown",
   "id": "9aa9f0e2",
   "metadata": {},
   "source": [
    "Аналогично проверяем третью гипотезу."
   ]
  },
  {
   "cell_type": "code",
   "execution_count": 121,
   "id": "5575e0d4",
   "metadata": {},
   "outputs": [
    {
     "data": {
      "text/plain": [
       "(134.3985507246377, 129.3030303030303)"
      ]
     },
     "execution_count": 121,
     "metadata": {},
     "output_type": "execute_result"
    }
   ],
   "source": [
    "y1_mean = y1[\"trestbps\"].mean()\n",
    "y2_mean = y2[\"trestbps\"].mean()\n",
    "\n",
    "y1_mean, y2_mean"
   ]
  },
  {
   "cell_type": "code",
   "execution_count": 122,
   "id": "fdb8e464",
   "metadata": {},
   "outputs": [
    {
     "data": {
      "text/plain": [
       "(1810470.259923819, 1832237.21541502)"
      ]
     },
     "execution_count": 122,
     "metadata": {},
     "output_type": "execute_result"
    }
   ],
   "source": [
    "S2_b_1 = n1 * (y1_mean - mean) ** 2 + n2 * (y2_mean - mean) ** 2\n",
    "S2_w_1 = ((y1[\"п»їage\"] - y1_mean) ** 2).sum() + ((y2[\"п»їage\"] - y2_mean) ** 2).sum()\n",
    "\n",
    "S2_b_1, S2_w_1"
   ]
  },
  {
   "cell_type": "code",
   "execution_count": 124,
   "id": "c21517b3",
   "metadata": {},
   "outputs": [
    {
     "data": {
      "text/plain": [
       "(1810470.259923819, 6087.166828621329)"
      ]
     },
     "execution_count": 124,
     "metadata": {},
     "output_type": "execute_result"
    }
   ],
   "source": [
    "sigma2_b_1 = S2_b_1 / k1\n",
    "sigma2_w_1 = S2_w_1 / k2_1\n",
    "\n",
    "sigma2_b_1, sigma2_w_1"
   ]
  },
  {
   "cell_type": "code",
   "execution_count": 128,
   "id": "48c46c5d",
   "metadata": {},
   "outputs": [
    {
     "data": {
      "text/plain": [
       "297.4241237173171"
      ]
     },
     "execution_count": 128,
     "metadata": {},
     "output_type": "execute_result"
    }
   ],
   "source": [
    "T_1 = sigma2_b_1 / sigma2_w_1\n",
    "\n",
    "T_1"
   ]
  },
  {
   "cell_type": "code",
   "execution_count": 129,
   "id": "38f84462",
   "metadata": {},
   "outputs": [
    {
     "data": {
      "text/plain": [
       "3.8725380423850146"
      ]
     },
     "execution_count": 129,
     "metadata": {},
     "output_type": "execute_result"
    }
   ],
   "source": [
    "F_crit_1 = stats.f.ppf(1 - alpha, k1, k2_1)\n",
    "\n",
    "F_crit_1"
   ]
  },
  {
   "cell_type": "markdown",
   "id": "13a79622",
   "metadata": {},
   "source": [
    "Т значительно больше критического значения, значит артериальное давление влияет на наличие сердечных заболеваний."
   ]
  }
 ],
 "metadata": {
  "kernelspec": {
   "display_name": "Python 3",
   "language": "python",
   "name": "python3"
  },
  "language_info": {
   "codemirror_mode": {
    "name": "ipython",
    "version": 3
   },
   "file_extension": ".py",
   "mimetype": "text/x-python",
   "name": "python",
   "nbconvert_exporter": "python",
   "pygments_lexer": "ipython3",
   "version": "3.8.8"
  }
 },
 "nbformat": 4,
 "nbformat_minor": 5
}
